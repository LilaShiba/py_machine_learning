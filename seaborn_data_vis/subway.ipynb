{
 "cells": [
  {
   "cell_type": "code",
   "execution_count": 5,
   "metadata": {},
   "outputs": [],
   "source": [
    "import numpy as np"
   ]
  },
  {
   "cell_type": "code",
   "execution_count": 6,
   "metadata": {},
   "outputs": [],
   "source": [
    "import pandas as pd"
   ]
  },
  {
   "cell_type": "code",
   "execution_count": 7,
   "metadata": {},
   "outputs": [],
   "source": [
    "import seaborn as sns"
   ]
  },
  {
   "cell_type": "code",
   "execution_count": 8,
   "metadata": {},
   "outputs": [],
   "source": [
    "from matplotlib import pyplot as plt\n"
   ]
  },
  {
   "cell_type": "code",
   "execution_count": 9,
   "metadata": {},
   "outputs": [],
   "source": [
    "sub = pd.read_csv('subway.csv')\n"
   ]
  },
  {
   "cell_type": "code",
   "execution_count": 11,
   "metadata": {},
   "outputs": [
    {
     "data": {
      "text/html": [
       "<div>\n",
       "<style scoped>\n",
       "    .dataframe tbody tr th:only-of-type {\n",
       "        vertical-align: middle;\n",
       "    }\n",
       "\n",
       "    .dataframe tbody tr th {\n",
       "        vertical-align: top;\n",
       "    }\n",
       "\n",
       "    .dataframe thead th {\n",
       "        text-align: right;\n",
       "    }\n",
       "</style>\n",
       "<table border=\"1\" class=\"dataframe\">\n",
       "  <thead>\n",
       "    <tr style=\"text-align: right;\">\n",
       "      <th></th>\n",
       "      <th>OBJECTID</th>\n",
       "      <th>URL</th>\n",
       "      <th>NAME</th>\n",
       "      <th>the_geom</th>\n",
       "      <th>LINE</th>\n",
       "    </tr>\n",
       "  </thead>\n",
       "  <tbody>\n",
       "    <tr>\n",
       "      <th>0</th>\n",
       "      <td>1734</td>\n",
       "      <td>http://web.mta.info/nyct/service/</td>\n",
       "      <td>Birchall Ave &amp; Sagamore St at NW corner</td>\n",
       "      <td>POINT (-73.86835600032798 40.84916900104506)</td>\n",
       "      <td>2-5</td>\n",
       "    </tr>\n",
       "    <tr>\n",
       "      <th>1</th>\n",
       "      <td>1735</td>\n",
       "      <td>http://web.mta.info/nyct/service/</td>\n",
       "      <td>Birchall Ave &amp; Sagamore St at NE corner</td>\n",
       "      <td>POINT (-73.86821300022677 40.84912800131844)</td>\n",
       "      <td>2-5</td>\n",
       "    </tr>\n",
       "    <tr>\n",
       "      <th>2</th>\n",
       "      <td>1736</td>\n",
       "      <td>http://web.mta.info/nyct/service/</td>\n",
       "      <td>Morris Park Ave &amp; 180th St at NW corner</td>\n",
       "      <td>POINT (-73.87349900050798 40.84122300105249)</td>\n",
       "      <td>2-5</td>\n",
       "    </tr>\n",
       "    <tr>\n",
       "      <th>3</th>\n",
       "      <td>1737</td>\n",
       "      <td>http://web.mta.info/nyct/service/</td>\n",
       "      <td>Morris Park Ave &amp; 180th St at NW corner</td>\n",
       "      <td>POINT (-73.8728919997833 40.84145300067447)</td>\n",
       "      <td>2-5</td>\n",
       "    </tr>\n",
       "  </tbody>\n",
       "</table>\n",
       "</div>"
      ],
      "text/plain": [
       "   OBJECTID                                URL  \\\n",
       "0      1734  http://web.mta.info/nyct/service/   \n",
       "1      1735  http://web.mta.info/nyct/service/   \n",
       "2      1736  http://web.mta.info/nyct/service/   \n",
       "3      1737  http://web.mta.info/nyct/service/   \n",
       "\n",
       "                                      NAME  \\\n",
       "0  Birchall Ave & Sagamore St at NW corner   \n",
       "1  Birchall Ave & Sagamore St at NE corner   \n",
       "2  Morris Park Ave & 180th St at NW corner   \n",
       "3  Morris Park Ave & 180th St at NW corner   \n",
       "\n",
       "                                       the_geom LINE  \n",
       "0  POINT (-73.86835600032798 40.84916900104506)  2-5  \n",
       "1  POINT (-73.86821300022677 40.84912800131844)  2-5  \n",
       "2  POINT (-73.87349900050798 40.84122300105249)  2-5  \n",
       "3   POINT (-73.8728919997833 40.84145300067447)  2-5  "
      ]
     },
     "execution_count": 11,
     "metadata": {},
     "output_type": "execute_result"
    }
   ],
   "source": [
    "sub.head(4)"
   ]
  },
  {
   "cell_type": "code",
   "execution_count": null,
   "metadata": {},
   "outputs": [],
   "source": []
  }
 ],
 "metadata": {
  "kernelspec": {
   "display_name": "Python 3",
   "language": "python",
   "name": "python3"
  },
  "language_info": {
   "codemirror_mode": {
    "name": "ipython",
    "version": 3
   },
   "file_extension": ".py",
   "mimetype": "text/x-python",
   "name": "python",
   "nbconvert_exporter": "python",
   "pygments_lexer": "ipython3",
   "version": "3.6.4"
  }
 },
 "nbformat": 4,
 "nbformat_minor": 2
}
