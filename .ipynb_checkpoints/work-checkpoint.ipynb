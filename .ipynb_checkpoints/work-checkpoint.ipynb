{
 "cells": [
  {
   "cell_type": "code",
   "execution_count": 16,
   "metadata": {},
   "outputs": [],
   "source": [
    "import numpy as np\n",
    "import pandas as pd\n",
    "import seaborn as sns\n",
    "from matplotlib import pyplot as plt\n",
    "%matplotlib inline\n"
   ]
  },
  {
   "cell_type": "code",
   "execution_count": 17,
   "metadata": {},
   "outputs": [],
   "source": [
    "work = pd.read_csv('tech.csv')\n"
   ]
  },
  {
   "cell_type": "code",
   "execution_count": 18,
   "metadata": {},
   "outputs": [
    {
     "data": {
      "text/html": [
       "<div>\n",
       "<style scoped>\n",
       "    .dataframe tbody tr th:only-of-type {\n",
       "        vertical-align: middle;\n",
       "    }\n",
       "\n",
       "    .dataframe tbody tr th {\n",
       "        vertical-align: top;\n",
       "    }\n",
       "\n",
       "    .dataframe thead th {\n",
       "        text-align: right;\n",
       "    }\n",
       "</style>\n",
       "<table border=\"1\" class=\"dataframe\">\n",
       "  <thead>\n",
       "    <tr style=\"text-align: right;\">\n",
       "      <th></th>\n",
       "      <th>Name</th>\n",
       "      <th>Timestamp</th>\n",
       "      <th>Email Address</th>\n",
       "      <th>Division</th>\n",
       "      <th>Department</th>\n",
       "      <th>Integrator</th>\n",
       "      <th>Priority</th>\n",
       "      <th>Action Taken</th>\n",
       "      <th>Follow Up</th>\n",
       "      <th>Tools</th>\n",
       "      <th>Category</th>\n",
       "      <th>What is your goal for using technology to improve your educational practice?</th>\n",
       "      <th>How will achieving this goal have an impact on your students?</th>\n",
       "      <th>How will you determine whether you have achieved this goal?</th>\n",
       "      <th>Unnamed: 14</th>\n",
       "      <th>Timeline</th>\n",
       "      <th>What is your timeline for achieving this goal?</th>\n",
       "      <th>What support do you need to achieve this goal?</th>\n",
       "    </tr>\n",
       "  </thead>\n",
       "  <tbody>\n",
       "    <tr>\n",
       "      <th>0</th>\n",
       "      <td>Rachel Bruttig</td>\n",
       "      <td>10/13/2017 12:30:08</td>\n",
       "      <td>rbruttig@dwight.edu</td>\n",
       "      <td>Middle School</td>\n",
       "      <td>World Language</td>\n",
       "      <td>NaN</td>\n",
       "      <td>Medium</td>\n",
       "      <td>NaN</td>\n",
       "      <td>NaN</td>\n",
       "      <td>NaN</td>\n",
       "      <td>Literacy/Research</td>\n",
       "      <td>Teaching online literacy and internet research...</td>\n",
       "      <td>Students will understand where the information...</td>\n",
       "      <td>Students will do a research project using the ...</td>\n",
       "      <td>NaN</td>\n",
       "      <td>Trimester 3</td>\n",
       "      <td>May</td>\n",
       "      <td>NaN</td>\n",
       "    </tr>\n",
       "    <tr>\n",
       "      <th>1</th>\n",
       "      <td>Heidi Happ</td>\n",
       "      <td>10/13/2017 12:34:18</td>\n",
       "      <td>hhapp@dwight.edu</td>\n",
       "      <td>Lower School, Upper School</td>\n",
       "      <td>Physical and Health Education</td>\n",
       "      <td>NaN</td>\n",
       "      <td>Medium</td>\n",
       "      <td>NaN</td>\n",
       "      <td>NaN</td>\n",
       "      <td>NaN</td>\n",
       "      <td>Note-taking/Comment Writing</td>\n",
       "      <td>Goal 1:\\nTo use technology more efficiently fo...</td>\n",
       "      <td>It will help providing them with more detailed...</td>\n",
       "      <td>When I have found a technology tool that allow...</td>\n",
       "      <td>NaN</td>\n",
       "      <td>Trimester 2</td>\n",
       "      <td>March</td>\n",
       "      <td>NaN</td>\n",
       "    </tr>\n",
       "    <tr>\n",
       "      <th>2</th>\n",
       "      <td>Karen Chernoff</td>\n",
       "      <td>10/13/2017 12:34:59</td>\n",
       "      <td>kchernoff@dwight.edu</td>\n",
       "      <td>Upper School</td>\n",
       "      <td>History/Social Studies</td>\n",
       "      <td>Matt Moran</td>\n",
       "      <td>High</td>\n",
       "      <td>MM contacting for week of 11/13</td>\n",
       "      <td>Testing times for extended time?\\nSeeing other...</td>\n",
       "      <td>DigiExam</td>\n",
       "      <td>NaN</td>\n",
       "      <td>Working more with DigiExams</td>\n",
       "      <td>It will help to make the testing process more ...</td>\n",
       "      <td>When I can seamlessly trouble shoot problems t...</td>\n",
       "      <td>NaN</td>\n",
       "      <td>Trimester 3</td>\n",
       "      <td>Throughout the year, i.e. the school term</td>\n",
       "      <td>NaN</td>\n",
       "    </tr>\n",
       "    <tr>\n",
       "      <th>3</th>\n",
       "      <td>Heidi Happ</td>\n",
       "      <td>10/13/2017 12:37:39</td>\n",
       "      <td>hhapp@dwight.edu</td>\n",
       "      <td>Lower School, Upper School</td>\n",
       "      <td>Physical and Health Education</td>\n",
       "      <td>NaN</td>\n",
       "      <td>NaN</td>\n",
       "      <td>NaN</td>\n",
       "      <td>NaN</td>\n",
       "      <td>Google Keep</td>\n",
       "      <td>Note-taking</td>\n",
       "      <td>To use technology more efficiently for recordi...</td>\n",
       "      <td>It will help providing them with more detailed...</td>\n",
       "      <td>When I have found a technology tool that allow...</td>\n",
       "      <td>NaN</td>\n",
       "      <td>Trimester 2</td>\n",
       "      <td>March</td>\n",
       "      <td>NaN</td>\n",
       "    </tr>\n",
       "    <tr>\n",
       "      <th>4</th>\n",
       "      <td>Kathie Von Ankum</td>\n",
       "      <td>10/13/2017 12:39:55</td>\n",
       "      <td>kvonankum@dwight.edu</td>\n",
       "      <td>Upper School</td>\n",
       "      <td>World Language</td>\n",
       "      <td>Matt Moran</td>\n",
       "      <td>High</td>\n",
       "      <td>Matt met with Kathie to go over how to create ...</td>\n",
       "      <td>NaN</td>\n",
       "      <td>iMovie</td>\n",
       "      <td>Literacy/Research</td>\n",
       "      <td>Internet research lessons for students in the ...</td>\n",
       "      <td>Students will be more effective at researching...</td>\n",
       "      <td>Youtube productions</td>\n",
       "      <td>NaN</td>\n",
       "      <td>Trimester 3</td>\n",
       "      <td>on-going</td>\n",
       "      <td>NaN</td>\n",
       "    </tr>\n",
       "  </tbody>\n",
       "</table>\n",
       "</div>"
      ],
      "text/plain": [
       "               Name            Timestamp         Email Address  \\\n",
       "0    Rachel Bruttig  10/13/2017 12:30:08   rbruttig@dwight.edu   \n",
       "1        Heidi Happ  10/13/2017 12:34:18      hhapp@dwight.edu   \n",
       "2    Karen Chernoff  10/13/2017 12:34:59  kchernoff@dwight.edu   \n",
       "3        Heidi Happ  10/13/2017 12:37:39      hhapp@dwight.edu   \n",
       "4  Kathie Von Ankum  10/13/2017 12:39:55  kvonankum@dwight.edu   \n",
       "\n",
       "                     Division                     Department  Integrator  \\\n",
       "0               Middle School                 World Language         NaN   \n",
       "1  Lower School, Upper School  Physical and Health Education         NaN   \n",
       "2                Upper School         History/Social Studies  Matt Moran   \n",
       "3  Lower School, Upper School  Physical and Health Education         NaN   \n",
       "4                Upper School                 World Language  Matt Moran   \n",
       "\n",
       "  Priority                                       Action Taken  \\\n",
       "0   Medium                                                NaN   \n",
       "1   Medium                                                NaN   \n",
       "2     High                    MM contacting for week of 11/13   \n",
       "3      NaN                                                NaN   \n",
       "4     High  Matt met with Kathie to go over how to create ...   \n",
       "\n",
       "                                           Follow Up        Tools  \\\n",
       "0                                                NaN          NaN   \n",
       "1                                                NaN          NaN   \n",
       "2  Testing times for extended time?\\nSeeing other...     DigiExam   \n",
       "3                                                NaN  Google Keep   \n",
       "4                                                NaN       iMovie   \n",
       "\n",
       "                      Category  \\\n",
       "0            Literacy/Research   \n",
       "1  Note-taking/Comment Writing   \n",
       "2                          NaN   \n",
       "3                  Note-taking   \n",
       "4            Literacy/Research   \n",
       "\n",
       "  What is your goal for using technology to improve your educational practice?  \\\n",
       "0  Teaching online literacy and internet research...                             \n",
       "1  Goal 1:\\nTo use technology more efficiently fo...                             \n",
       "2                        Working more with DigiExams                             \n",
       "3  To use technology more efficiently for recordi...                             \n",
       "4  Internet research lessons for students in the ...                             \n",
       "\n",
       "  How will achieving this goal have an impact on your students?  \\\n",
       "0  Students will understand where the information...              \n",
       "1  It will help providing them with more detailed...              \n",
       "2  It will help to make the testing process more ...              \n",
       "3  It will help providing them with more detailed...              \n",
       "4  Students will be more effective at researching...              \n",
       "\n",
       "  How will you determine whether you have achieved this goal?  Unnamed: 14  \\\n",
       "0  Students will do a research project using the ...                   NaN   \n",
       "1  When I have found a technology tool that allow...                   NaN   \n",
       "2  When I can seamlessly trouble shoot problems t...                   NaN   \n",
       "3  When I have found a technology tool that allow...                   NaN   \n",
       "4                                Youtube productions                   NaN   \n",
       "\n",
       "      Timeline What is your timeline for achieving this goal?  \\\n",
       "0  Trimester 3                                            May   \n",
       "1  Trimester 2                                          March   \n",
       "2  Trimester 3      Throughout the year, i.e. the school term   \n",
       "3  Trimester 2                                          March   \n",
       "4  Trimester 3                                       on-going   \n",
       "\n",
       "  What support do you need to achieve this goal?  \n",
       "0                                            NaN  \n",
       "1                                            NaN  \n",
       "2                                            NaN  \n",
       "3                                            NaN  \n",
       "4                                            NaN  "
      ]
     },
     "execution_count": 18,
     "metadata": {},
     "output_type": "execute_result"
    }
   ],
   "source": [
    "work.head(5)"
   ]
  },
  {
   "cell_type": "code",
   "execution_count": 19,
   "metadata": {},
   "outputs": [
    {
     "data": {
      "text/plain": [
       "26"
      ]
     },
     "execution_count": 19,
     "metadata": {},
     "output_type": "execute_result"
    }
   ],
   "source": [
    "sum(work['Priority']=='High')"
   ]
  },
  {
   "cell_type": "code",
   "execution_count": 20,
   "metadata": {},
   "outputs": [
    {
     "data": {
      "text/plain": [
       "52"
      ]
     },
     "execution_count": 20,
     "metadata": {},
     "output_type": "execute_result"
    }
   ],
   "source": [
    "sum(work['Timeline']=='Trimester 3')"
   ]
  },
  {
   "cell_type": "code",
   "execution_count": 21,
   "metadata": {},
   "outputs": [
    {
     "data": {
      "text/plain": [
       "EdPuzzle                                    6\n",
       "Google Classroom                            3\n",
       "MyDwight/Google Classroom                   2\n",
       "DigiExam                                    2\n",
       "Google Keep                                 2\n",
       "MyDwight                                    2\n",
       "Slack                                       1\n",
       "ManageBac                                   1\n",
       "Google Classroom?\\nNotes in Google Keep?    1\n",
       "Rocketbook                                  1\n",
       "Evernote                                    1\n",
       "G Suite                                     1\n",
       "Google Drive                                1\n",
       "Prism                                       1\n",
       "Geometer's Sketchpad                        1\n",
       "QuickTime/Edpuz                             1\n",
       "iMovie                                      1\n",
       "NearPod                                     1\n",
       "Sketchup                                    1\n",
       "Name: Tools, dtype: int64"
      ]
     },
     "execution_count": 21,
     "metadata": {},
     "output_type": "execute_result"
    }
   ],
   "source": [
    "work['Tools'].value_counts()\n"
   ]
  },
  {
   "cell_type": "code",
   "execution_count": 22,
   "metadata": {},
   "outputs": [
    {
     "data": {
      "text/plain": [
       "count                    46\n",
       "unique                   26\n",
       "top       Flipped classroom\n",
       "freq                      7\n",
       "Name: Category, dtype: object"
      ]
     },
     "execution_count": 22,
     "metadata": {},
     "output_type": "execute_result"
    }
   ],
   "source": [
    "work['Category'].describe()"
   ]
  },
  {
   "cell_type": "code",
   "execution_count": 23,
   "metadata": {},
   "outputs": [
    {
     "data": {
      "text/plain": [
       "count           30\n",
       "unique          19\n",
       "top       EdPuzzle\n",
       "freq             6\n",
       "Name: Tools, dtype: object"
      ]
     },
     "execution_count": 23,
     "metadata": {},
     "output_type": "execute_result"
    }
   ],
   "source": [
    "work['Tools'].describe()"
   ]
  },
  {
   "cell_type": "code",
   "execution_count": 24,
   "metadata": {},
   "outputs": [],
   "source": [
    "df = pd.DataFrame(work)"
   ]
  },
  {
   "cell_type": "code",
   "execution_count": 25,
   "metadata": {},
   "outputs": [],
   "source": [
    "byTool = df.groupby('Name')"
   ]
  },
  {
   "cell_type": "code",
   "execution_count": 26,
   "metadata": {},
   "outputs": [
    {
     "data": {
      "text/plain": [
       "count                 72\n",
       "unique                18\n",
       "top       World Language\n",
       "freq                  15\n",
       "Name: Department, dtype: object"
      ]
     },
     "execution_count": 26,
     "metadata": {},
     "output_type": "execute_result"
    }
   ],
   "source": [
    "work['Department'].describe()"
   ]
  },
  {
   "cell_type": "code",
   "execution_count": 27,
   "metadata": {},
   "outputs": [
    {
     "data": {
      "text/plain": [
       "Flipped classroom                       7\n",
       "Flipped Classroom                       7\n",
       "Literacy/Research                       6\n",
       "Note-taking                             3\n",
       "Google Classroom                        2\n",
       "Google Classroom MyDwight               1\n",
       "Virtual labs                            1\n",
       "Project-based learning                  1\n",
       "Animation                               1\n",
       "3D Printing                             1\n",
       "Online research                         1\n",
       "Google Site\\n\\nGoogle Apps              1\n",
       "Portfolio work                          1\n",
       "Visuals aids                            1\n",
       "Literacy                                1\n",
       "Notetaking                              1\n",
       "Organization                            1\n",
       "Class organization                      1\n",
       "Note-taking/Comment Writing             1\n",
       "Google Sheets                           1\n",
       "Creative projects                       1\n",
       "Online classroom                        1\n",
       "Flipped classrom\\n                      1\n",
       "Photography\\n\\nPortfolio work           1\n",
       "Flipped clasroom; Digital portfolios    1\n",
       "Digital portfolios                      1\n",
       "Name: Category, dtype: int64"
      ]
     },
     "execution_count": 27,
     "metadata": {},
     "output_type": "execute_result"
    }
   ],
   "source": [
    "work['Category'].value_counts()"
   ]
  },
  {
   "cell_type": "markdown",
   "metadata": {},
   "source": [
    "# "
   ]
  },
  {
   "cell_type": "code",
   "execution_count": 28,
   "metadata": {},
   "outputs": [],
   "source": [
    "ed = pd.read_csv('survey.csv')\n"
   ]
  },
  {
   "cell_type": "code",
   "execution_count": 29,
   "metadata": {},
   "outputs": [
    {
     "data": {
      "text/html": [
       "<div>\n",
       "<style scoped>\n",
       "    .dataframe tbody tr th:only-of-type {\n",
       "        vertical-align: middle;\n",
       "    }\n",
       "\n",
       "    .dataframe tbody tr th {\n",
       "        vertical-align: top;\n",
       "    }\n",
       "\n",
       "    .dataframe thead th {\n",
       "        text-align: right;\n",
       "    }\n",
       "</style>\n",
       "<table border=\"1\" class=\"dataframe\">\n",
       "  <thead>\n",
       "    <tr style=\"text-align: right;\">\n",
       "      <th></th>\n",
       "      <th>Timestamp</th>\n",
       "      <th>Email Address</th>\n",
       "      <th>use</th>\n",
       "      <th>familiarity</th>\n",
       "      <th>team_work</th>\n",
       "    </tr>\n",
       "  </thead>\n",
       "  <tbody>\n",
       "    <tr>\n",
       "      <th>0</th>\n",
       "      <td>2/21/2018 14:32:46</td>\n",
       "      <td>sfarnsworth@dwight.edu</td>\n",
       "      <td>0</td>\n",
       "      <td>4</td>\n",
       "      <td>Yes</td>\n",
       "    </tr>\n",
       "    <tr>\n",
       "      <th>1</th>\n",
       "      <td>2/21/2018 14:35:26</td>\n",
       "      <td>bgragg@dwight.edu</td>\n",
       "      <td>0</td>\n",
       "      <td>1</td>\n",
       "      <td>need help</td>\n",
       "    </tr>\n",
       "    <tr>\n",
       "      <th>2</th>\n",
       "      <td>2/21/2018 14:41:01</td>\n",
       "      <td>nhamilton@dwight.edu</td>\n",
       "      <td>3</td>\n",
       "      <td>5</td>\n",
       "      <td>Yes</td>\n",
       "    </tr>\n",
       "    <tr>\n",
       "      <th>3</th>\n",
       "      <td>2/21/2018 14:41:57</td>\n",
       "      <td>ebillard@dwight.edu</td>\n",
       "      <td>3</td>\n",
       "      <td>3</td>\n",
       "      <td>need hep</td>\n",
       "    </tr>\n",
       "    <tr>\n",
       "      <th>4</th>\n",
       "      <td>2/21/2018 14:59:50</td>\n",
       "      <td>charrison@dwight.edu</td>\n",
       "      <td>4</td>\n",
       "      <td>4</td>\n",
       "      <td>Yes</td>\n",
       "    </tr>\n",
       "  </tbody>\n",
       "</table>\n",
       "</div>"
      ],
      "text/plain": [
       "            Timestamp           Email Address  use  familiarity  team_work\n",
       "0  2/21/2018 14:32:46  sfarnsworth@dwight.edu    0            4        Yes\n",
       "1  2/21/2018 14:35:26       bgragg@dwight.edu    0            1  need help\n",
       "2  2/21/2018 14:41:01    nhamilton@dwight.edu    3            5        Yes\n",
       "3  2/21/2018 14:41:57     ebillard@dwight.edu    3            3   need hep\n",
       "4  2/21/2018 14:59:50    charrison@dwight.edu    4            4        Yes"
      ]
     },
     "execution_count": 29,
     "metadata": {},
     "output_type": "execute_result"
    }
   ],
   "source": [
    "ed.head()"
   ]
  },
  {
   "cell_type": "code",
   "execution_count": 30,
   "metadata": {},
   "outputs": [
    {
     "data": {
      "text/plain": [
       "<seaborn.axisgrid.FacetGrid at 0x11994cd30>"
      ]
     },
     "execution_count": 30,
     "metadata": {},
     "output_type": "execute_result"
    },
    {
     "data": {
      "image/png": "[encoded data removed]",
      "text/plain": [
       "<matplotlib.figure.Figure at 0x11992e048>"
      ]
     },
     "metadata": {},
     "output_type": "display_data"
    }
   ],
   "source": [
    "sns.lmplot(x='use', y='familiarity', data=ed)"
   ]
  },
  {
   "cell_type": "code",
   "execution_count": 31,
   "metadata": {},
   "outputs": [
    {
     "data": {
      "text/plain": [
       "<seaborn.axisgrid.JointGrid at 0x11995efd0>"
      ]
     },
     "execution_count": 31,
     "metadata": {},
     "output_type": "execute_result"
    },
    {
     "data": {
      "image/png": "[encoded data removed]",
      "text/plain": [
       "<matplotlib.figure.Figure at 0x11676bd68>"
      ]
     },
     "metadata": {},
     "output_type": "display_data"
    }
   ],
   "source": [
    "sns.jointplot(x='use', y='familiarity', data=ed, kind='hex')"
   ]
  },
  {
   "cell_type": "code",
   "execution_count": 32,
   "metadata": {},
   "outputs": [
    {
     "data": {
      "text/plain": [
       "<matplotlib.axes._subplots.AxesSubplot at 0x119ba8630>"
      ]
     },
     "execution_count": 32,
     "metadata": {},
     "output_type": "execute_result"
    },
    {
     "data": {
      "image/png": "[encoded data removed]",
      "text/plain": [
       "<matplotlib.figure.Figure at 0x1167911d0>"
      ]
     },
     "metadata": {},
     "output_type": "display_data"
    }
   ],
   "source": [
    "sns.kdeplot(ed['use'])"
   ]
  },
  {
   "cell_type": "code",
   "execution_count": 33,
   "metadata": {},
   "outputs": [
    {
     "data": {
      "text/plain": [
       "<matplotlib.axes._subplots.AxesSubplot at 0x119d8f320>"
      ]
     },
     "execution_count": 33,
     "metadata": {},
     "output_type": "execute_result"
    },
    {
     "data": {
      "image/png": "[encoded data removed]",
      "text/plain": [
       "<matplotlib.figure.Figure at 0x119973d68>"
      ]
     },
     "metadata": {},
     "output_type": "display_data"
    }
   ],
   "source": [
    "sns.kdeplot(ed['familiarity'])"
   ]
  },
  {
   "cell_type": "code",
   "execution_count": 34,
   "metadata": {},
   "outputs": [
    {
     "data": {
      "text/html": [
       "<div>\n",
       "<style scoped>\n",
       "    .dataframe tbody tr th:only-of-type {\n",
       "        vertical-align: middle;\n",
       "    }\n",
       "\n",
       "    .dataframe tbody tr th {\n",
       "        vertical-align: top;\n",
       "    }\n",
       "\n",
       "    .dataframe thead th {\n",
       "        text-align: right;\n",
       "    }\n",
       "</style>\n",
       "<table border=\"1\" class=\"dataframe\">\n",
       "  <thead>\n",
       "    <tr style=\"text-align: right;\">\n",
       "      <th></th>\n",
       "      <th>use</th>\n",
       "      <th>familiarity</th>\n",
       "    </tr>\n",
       "  </thead>\n",
       "  <tbody>\n",
       "    <tr>\n",
       "      <th>use</th>\n",
       "      <td>1.000000</td>\n",
       "      <td>0.239701</td>\n",
       "    </tr>\n",
       "    <tr>\n",
       "      <th>familiarity</th>\n",
       "      <td>0.239701</td>\n",
       "      <td>1.000000</td>\n",
       "    </tr>\n",
       "  </tbody>\n",
       "</table>\n",
       "</div>"
      ],
      "text/plain": [
       "                  use  familiarity\n",
       "use          1.000000     0.239701\n",
       "familiarity  0.239701     1.000000"
      ]
     },
     "execution_count": 34,
     "metadata": {},
     "output_type": "execute_result"
    }
   ],
   "source": [
    "ed[['use', 'familiarity']].corr()"
   ]
  },
  {
   "cell_type": "code",
   "execution_count": 35,
   "metadata": {},
   "outputs": [],
   "source": [
    "ed_cor = ed.corr()"
   ]
  },
  {
   "cell_type": "code",
   "execution_count": 36,
   "metadata": {},
   "outputs": [
    {
     "data": {
      "image/png": "[encoded data removed]",
      "text/plain": [
       "<matplotlib.figure.Figure at 0x119b50358>"
      ]
     },
     "metadata": {},
     "output_type": "display_data"
    }
   ],
   "source": [
    "sns.heatmap(ed_cor,annot=True,cmap='coolwarm')\n",
    "sns.set_context('poster')"
   ]
  },
  {
   "cell_type": "code",
   "execution_count": 38,
   "metadata": {},
   "outputs": [
    {
     "data": {
      "text/plain": [
       "<matplotlib.axes._subplots.AxesSubplot at 0x11b2eacf8>"
      ]
     },
     "execution_count": 38,
     "metadata": {},
     "output_type": "execute_result"
    },
    {
     "data": {
      "image/png": "[encoded data removed]",
      "text/plain": [
       "<matplotlib.figure.Figure at 0x11996a080>"
      ]
     },
     "metadata": {},
     "output_type": "display_data"
    }
   ],
   "source": [
    "sns.set_style('whitegrid')\n",
    "sns.set_context('poster')\n",
    "sns.countplot(x='Priority', data=work)"
   ]
  },
  {
   "cell_type": "code",
   "execution_count": null,
   "metadata": {},
   "outputs": [],
   "source": []
  }
 ],
 "metadata": {
  "kernelspec": {
   "display_name": "Python 3",
   "language": "python",
   "name": "python3"
  },
  "language_info": {
   "codemirror_mode": {
    "name": "ipython",
    "version": 3
   },
   "file_extension": ".py",
   "mimetype": "text/x-python",
   "name": "python",
   "nbconvert_exporter": "python",
   "pygments_lexer": "ipython3",
   "version": "3.6.4"
  }
 },
 "nbformat": 4,
 "nbformat_minor": 2
}
